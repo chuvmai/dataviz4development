{
 "metadata": {
  "name": "",
  "signature": "sha256:2274132d5dd9399b61e9219dddee34245e2bc7864aec31d58927a40a6cc1fafd"
 },
 "nbformat": 3,
 "nbformat_minor": 0,
 "worksheets": [
  {
   "cells": [
    {
     "cell_type": "heading",
     "level": 1,
     "metadata": {},
     "source": [
      "UN Population Division Data API"
     ]
    },
    {
     "cell_type": "markdown",
     "metadata": {},
     "source": [
      "This notebook describes a simple *pandas* API for downloading data from the [UN Department of Social and Economic Affairs Population Division](http://esa.un.org/unpd/wpp/unpp/panel_indicators.htm) on-line database.\n",
      "\n",
      "Data relating to population distributions can be found on the United Nation\u2019s Department of  Population and Economic Affairs Population Division http://esa.un.org/unpd/wpp/unpp/panel_indicators.htm From the Online Database area select Detailed Indicators in the navigation bar on the left-hand side of the page, then choose Population by five-year age group and sex to get the data.\n",
      "\n",
      "![UN Population Division - online database - web page](https://farm6.staticflickr.com/5579/14729042787_b777bab27e_c.jpg)\n",
      "\n",
      "The current site allows you to select up to 5 indicators and 5 countries, as well as selecting start and end dates. The data can then be displayed in a table in a web page or downloaded as a CSV file.\n",
      "\n",
      "This notebook implements a simple downloading routine that allows you to specify up to five countries and up to five indicators and retrieve the data in the form of a *pandas* dataframe.\n",
      "\n",
      "A scraper is also provided that captures the allowable options from the indicator list and the country list, as well as the indicator variant. These options can be searched using case insensitive partial string matching."
     ]
    },
    {
     "cell_type": "code",
     "collapsed": false,
     "input": [
      "#If you do not have BeautifulSoup installed already, you will need to install it\n",
      "#!pip3 install beautifulsoup4"
     ],
     "language": "python",
     "metadata": {},
     "outputs": [],
     "prompt_number": 49
    },
    {
     "cell_type": "markdown",
     "metadata": {},
     "source": [
      "If we *View Source* on the web page we can see which form elements contain the variable, country and variant lists:\n",
      "\n",
      "![UN Population Division online data page - HTML source](https://farm4.staticflickr.com/3880/14729588549_39163a1263_c.jpg)\n"
     ]
    },
    {
     "cell_type": "markdown",
     "metadata": {},
     "source": [
      "We can also inspect the details of the elements that are passed to to the server when a download request is made.\n",
      "\n",
      "![UN Population Data download request - form headers](https://farm4.staticflickr.com/3864/14729683727_fa417f4795_c.jpg)"
     ]
    },
    {
     "cell_type": "code",
     "collapsed": false,
     "input": [
      "#Routines for scraping and downloading data from http://esa.un.org/unpd/wpp/unpp/panel_indicators.htm\n",
      "\n",
      "import requests\n",
      "from bs4 import BeautifulSoup\n",
      "\n",
      "#I'm in a Python3 environment\n",
      "from io import StringIO\n",
      "import pandas as pd\n",
      "\n",
      "def getFormSelectVals(soup,name):\n",
      "    ''' Parse out options from an HTML select list '''\n",
      "    \n",
      "    tmp={}\n",
      "    items=soup.find('select',{'name':name})\n",
      "    for o in items.findAll('option'):\n",
      "        #print(o.attrs['value'],o.text.strip())\n",
      "        tmp[o.text.strip()]=o.attrs['value']\n",
      "    return tmp\n",
      "\n",
      "\n",
      "def getUNPopDivIndicators():\n",
      "    ''' Grab the UN Population Division indicators page and parse out form values '''\n",
      "    \n",
      "    url='http://esa.un.org/unpd/wpp/unpp/panel_indicators.htm'\n",
      "    page = requests.get(url)\n",
      "    \n",
      "    soup=BeautifulSoup(page.content)\n",
      "    \n",
      "    unpop={}\n",
      "    unpop['vars']=getFormSelectVals(soup,'Variable')\n",
      "    unpop['countries']=getFormSelectVals(soup,'Location')\n",
      "    unpop['variants']=getFormSelectVals(soup,'Varient')\n",
      "      \n",
      "    return unpop\n",
      "\n",
      "\n",
      "def getUNPopDivData(dfi,country,indicator,variant='Medium variant',startyear=1950,endyear=2010):\n",
      "    ''' Download selected data from the UN Population Division indicators page and return it as a pandas dataframe '''\n",
      "    \n",
      "    if not isinstance(country,list): country= [country] \n",
      "    if not isinstance(indicator,list): indicator= [indicator]\n",
      "    \n",
      "    #Limited to five options - use the first 5\n",
      "    #For each item, look up the name from the scraped form elements and find what code number to use.\n",
      "    locations= [dfi['countries'][x] for x in country[:5]]\n",
      "    variables= [dfi['vars'][x] for x in indicator[:5]]\n",
      "    \n",
      "    varient=dfi['variants'][variant]\n",
      "    \n",
      "    data=[('Panel',2),('Varient',varient),('StartYear',startyear),('EndYear',endyear),('DoWhat','Download as .CSV File')]\n",
      "    \n",
      "    #If we request multiple locations or variables, the form repeats the 'Location' or 'Variable' attribute name\n",
      "    #This means we can't use a Python dict to represent the arguments - instead we create a list of tuples\n",
      "    for l in locations: data.append(('Location',l))\n",
      "    for v in variables: data.append(('Variable',v))\n",
      "    \n",
      "    url='http://esa.un.org/unpd/wpp/unpp/p2k0data_script.asp'\n",
      "\n",
      "    response = requests.post(url,data=data)\n",
      "    \n",
      "    #The data is returned as a string - we use StringIO to make it look like a file stream so pd.read_csv() can read it\n",
      "    #The last two lines of the returned data are an empty line and a metadata line - so let's ignore them.\n",
      "    #skipfooter currently only works with the python engine - so let's declare that to prevent a warning\n",
      "    df=pd.read_csv(StringIO(response.text), skipfooter=2, engine='python' )\n",
      "    \n",
      "    return df"
     ],
     "language": "python",
     "metadata": {},
     "outputs": [],
     "prompt_number": 50
    },
    {
     "cell_type": "code",
     "collapsed": false,
     "input": [
      "#Helper routines for working with the data\n",
      "def search(d, substr):\n",
      "    ''' Partial string match search within dict key names '''\n",
      "    #via http://stackoverflow.com/a/10796050/454773\n",
      "    \n",
      "    result = []\n",
      "    for key in d:\n",
      "        if substr.lower() in key.lower():\n",
      "            result.append((key, d[key])) \n",
      "\n",
      "    return result"
     ],
     "language": "python",
     "metadata": {},
     "outputs": [],
     "prompt_number": 51
    },
    {
     "cell_type": "markdown",
     "metadata": {},
     "source": [
      "So that's the code... now how do we use it?\n",
      "\n",
      "The first thing we need to do is see what indicators are available:"
     ]
    },
    {
     "cell_type": "code",
     "collapsed": false,
     "input": [
      "#Get indicators\n",
      "dfi=getUNPopDivIndicators()\n",
      "\n",
      "#Preview indicators\n",
      "dfi['vars']"
     ],
     "language": "python",
     "metadata": {},
     "outputs": [
      {
       "metadata": {},
       "output_type": "pyout",
       "prompt_number": 52,
       "text": [
        "{'Median age': '41;',\n",
        " 'Deaths by sex': ':62,63,64;',\n",
        " 'Population change': '46;',\n",
        " 'Under-five mortality': ':78,79,80;',\n",
        " 'Sex ratio at birth': '52;',\n",
        " 'Net migration rate': '85;',\n",
        " 'Population sex ratio': '13;',\n",
        " 'Population aged 0-4': ':19,30;',\n",
        " 'Dependency ratios': ':42,43,44;',\n",
        " 'Net reproduction rate': '48;',\n",
        " 'Population aged 15-24': ':21,32;',\n",
        " 'Population by sex (annual)': '-1;',\n",
        " 'Population by five-year age group and sex': '-2;',\n",
        " 'Infant mortality rate': ':75,76,77;',\n",
        " 'Births by age group of mother': '-6;',\n",
        " 'Births': '51;',\n",
        " 'Total fertility': '54;',\n",
        " 'Population 80+': ':24,35;',\n",
        " 'Crude birth rate': '53;',\n",
        " 'Age-specific fertility rates': '-5;',\n",
        " 'Life expectancy at birth': ':66,67,68;',\n",
        " 'Population 65+': ':23,34;',\n",
        " 'Population aged 15-64': ':88,103;',\n",
        " 'Crude death rate': '65;',\n",
        " 'Population growth rate': '47;',\n",
        " 'Net migration': '84;',\n",
        " 'Population aged 15-59': ':87,102;',\n",
        " 'Population 60+': ':22,33;',\n",
        " 'Population aged 0-14': ':86,101;',\n",
        " 'Women aged 15-49': ':25,36;',\n",
        " 'Population aged 5-14': ':20,31;'}"
       ]
      }
     ],
     "prompt_number": 52
    },
    {
     "cell_type": "markdown",
     "metadata": {},
     "source": [
      "We can also search within indicators to find their proper names."
     ]
    },
    {
     "cell_type": "code",
     "collapsed": false,
     "input": [
      "#Example search within indicators\n",
      "search(dfi['vars'],'pop')"
     ],
     "language": "python",
     "metadata": {},
     "outputs": [
      {
       "metadata": {},
       "output_type": "pyout",
       "prompt_number": 53,
       "text": [
        "[('Population change', '46;'),\n",
        " ('Population sex ratio', '13;'),\n",
        " ('Population aged 0-4', ':19,30;'),\n",
        " ('Population aged 15-24', ':21,32;'),\n",
        " ('Population by sex (annual)', '-1;'),\n",
        " ('Population by five-year age group and sex', '-2;'),\n",
        " ('Population 80+', ':24,35;'),\n",
        " ('Population 65+', ':23,34;'),\n",
        " ('Population aged 15-64', ':88,103;'),\n",
        " ('Population growth rate', '47;'),\n",
        " ('Population aged 15-59', ':87,102;'),\n",
        " ('Population 60+', ':22,33;'),\n",
        " ('Population aged 0-14', ':86,101;'),\n",
        " ('Population aged 5-14', ':20,31;')]"
       ]
      }
     ],
     "prompt_number": 53
    },
    {
     "cell_type": "markdown",
     "metadata": {},
     "source": [
      "The following shows us what prediction variants are supported."
     ]
    },
    {
     "cell_type": "code",
     "collapsed": false,
     "input": [
      "#Show variants of predictions\n",
      "dfi['variants']"
     ],
     "language": "python",
     "metadata": {},
     "outputs": [
      {
       "metadata": {},
       "output_type": "pyout",
       "prompt_number": 54,
       "text": [
        "{'Low variant': '4',\n",
        " 'Constant-fertility variant': '5',\n",
        " 'High variant': '3',\n",
        " 'Medium variant': '2'}"
       ]
      }
     ],
     "prompt_number": 54
    },
    {
     "cell_type": "markdown",
     "metadata": {},
     "source": [
      "We search for countries by name - but we need to make sure we pass the name in correctly. So search to find out..."
     ]
    },
    {
     "cell_type": "code",
     "collapsed": false,
     "input": [
      "#Example search within country names\n",
      "search(dfi['countries'],'united')"
     ],
     "language": "python",
     "metadata": {},
     "outputs": [
      {
       "metadata": {},
       "output_type": "pyout",
       "prompt_number": 55,
       "text": [
        "[('United States of America', '840'),\n",
        " ('United Arab Emirates', '784'),\n",
        " ('United Republic of Tanzania', '834'),\n",
        " ('United States Virgin Islands', '850'),\n",
        " ('United Kingdom', '826')]"
       ]
      }
     ],
     "prompt_number": 55
    },
    {
     "cell_type": "markdown",
     "metadata": {},
     "source": [
      "Once we know what we want to ask for, we can make a data request."
     ]
    },
    {
     "cell_type": "code",
     "collapsed": false,
     "input": [
      "#Let's run a test query\n",
      "ukpop=getUNPopDivData(dfi,['United Kingdom','Bangladesh','India','France','Germany','Italy'],\n",
      "                      ['Population 80+','Population sex ratio'],startyear=2000,endyear=2000)"
     ],
     "language": "python",
     "metadata": {},
     "outputs": [],
     "prompt_number": 56
    },
    {
     "cell_type": "code",
     "collapsed": false,
     "input": [
      "#Show unique countries - only data for the first five should have been requested\n",
      "ukpop['Country'].unique()"
     ],
     "language": "python",
     "metadata": {},
     "outputs": [
      {
       "metadata": {},
       "output_type": "pyout",
       "prompt_number": 57,
       "text": [
        "array(['United Kingdom', 'Bangladesh', 'India', 'France', 'Germany'], dtype=object)"
       ]
      }
     ],
     "prompt_number": 57
    },
    {
     "cell_type": "code",
     "collapsed": false,
     "input": [
      "#Preview the dataframe\n",
      "ukpop"
     ],
     "language": "python",
     "metadata": {},
     "outputs": [
      {
       "html": [
        "<div style=\"max-height:1000px;max-width:1500px;overflow:auto;\">\n",
        "<table border=\"1\" class=\"dataframe\">\n",
        "  <thead>\n",
        "    <tr style=\"text-align: right;\">\n",
        "      <th></th>\n",
        "      <th>Country</th>\n",
        "      <th>Variable</th>\n",
        "      <th>Variant</th>\n",
        "      <th>Year</th>\n",
        "      <th>Value</th>\n",
        "    </tr>\n",
        "  </thead>\n",
        "  <tbody>\n",
        "    <tr>\n",
        "      <th>0 </th>\n",
        "      <td> United Kingdom</td>\n",
        "      <td>       Population aged 80 or over (thousands)</td>\n",
        "      <td> Medium variant</td>\n",
        "      <td> 2000</td>\n",
        "      <td> 2361.0</td>\n",
        "    </tr>\n",
        "    <tr>\n",
        "      <th>1 </th>\n",
        "      <td> United Kingdom</td>\n",
        "      <td>               Percentage aged 80 or over (%)</td>\n",
        "      <td> Medium variant</td>\n",
        "      <td> 2000</td>\n",
        "      <td>    4.0</td>\n",
        "    </tr>\n",
        "    <tr>\n",
        "      <th>2 </th>\n",
        "      <td>     Bangladesh</td>\n",
        "      <td>       Population aged 80 or over (thousands)</td>\n",
        "      <td> Medium variant</td>\n",
        "      <td> 2000</td>\n",
        "      <td>  788.0</td>\n",
        "    </tr>\n",
        "    <tr>\n",
        "      <th>3 </th>\n",
        "      <td>     Bangladesh</td>\n",
        "      <td>               Percentage aged 80 or over (%)</td>\n",
        "      <td> Medium variant</td>\n",
        "      <td> 2000</td>\n",
        "      <td>    0.6</td>\n",
        "    </tr>\n",
        "    <tr>\n",
        "      <th>4 </th>\n",
        "      <td>          India</td>\n",
        "      <td>       Population aged 80 or over (thousands)</td>\n",
        "      <td> Medium variant</td>\n",
        "      <td> 2000</td>\n",
        "      <td> 5686.0</td>\n",
        "    </tr>\n",
        "    <tr>\n",
        "      <th>5 </th>\n",
        "      <td>          India</td>\n",
        "      <td>               Percentage aged 80 or over (%)</td>\n",
        "      <td> Medium variant</td>\n",
        "      <td> 2000</td>\n",
        "      <td>    0.5</td>\n",
        "    </tr>\n",
        "    <tr>\n",
        "      <th>6 </th>\n",
        "      <td>         France</td>\n",
        "      <td>       Population aged 80 or over (thousands)</td>\n",
        "      <td> Medium variant</td>\n",
        "      <td> 2000</td>\n",
        "      <td> 2190.0</td>\n",
        "    </tr>\n",
        "    <tr>\n",
        "      <th>7 </th>\n",
        "      <td>         France</td>\n",
        "      <td>               Percentage aged 80 or over (%)</td>\n",
        "      <td> Medium variant</td>\n",
        "      <td> 2000</td>\n",
        "      <td>    3.7</td>\n",
        "    </tr>\n",
        "    <tr>\n",
        "      <th>8 </th>\n",
        "      <td>        Germany</td>\n",
        "      <td>       Population aged 80 or over (thousands)</td>\n",
        "      <td> Medium variant</td>\n",
        "      <td> 2000</td>\n",
        "      <td> 2882.0</td>\n",
        "    </tr>\n",
        "    <tr>\n",
        "      <th>9 </th>\n",
        "      <td>        Germany</td>\n",
        "      <td>               Percentage aged 80 or over (%)</td>\n",
        "      <td> Medium variant</td>\n",
        "      <td> 2000</td>\n",
        "      <td>    3.5</td>\n",
        "    </tr>\n",
        "    <tr>\n",
        "      <th>10</th>\n",
        "      <td> United Kingdom</td>\n",
        "      <td> Population sex ratio (males per 100 females)</td>\n",
        "      <td> Medium variant</td>\n",
        "      <td> 2000</td>\n",
        "      <td>   95.0</td>\n",
        "    </tr>\n",
        "    <tr>\n",
        "      <th>11</th>\n",
        "      <td>     Bangladesh</td>\n",
        "      <td> Population sex ratio (males per 100 females)</td>\n",
        "      <td> Medium variant</td>\n",
        "      <td> 2000</td>\n",
        "      <td>  106.6</td>\n",
        "    </tr>\n",
        "    <tr>\n",
        "      <th>12</th>\n",
        "      <td>          India</td>\n",
        "      <td> Population sex ratio (males per 100 females)</td>\n",
        "      <td> Medium variant</td>\n",
        "      <td> 2000</td>\n",
        "      <td>  107.6</td>\n",
        "    </tr>\n",
        "    <tr>\n",
        "      <th>13</th>\n",
        "      <td>         France</td>\n",
        "      <td> Population sex ratio (males per 100 females)</td>\n",
        "      <td> Medium variant</td>\n",
        "      <td> 2000</td>\n",
        "      <td>   93.9</td>\n",
        "    </tr>\n",
        "    <tr>\n",
        "      <th>14</th>\n",
        "      <td>        Germany</td>\n",
        "      <td> Population sex ratio (males per 100 females)</td>\n",
        "      <td> Medium variant</td>\n",
        "      <td> 2000</td>\n",
        "      <td>   95.2</td>\n",
        "    </tr>\n",
        "  </tbody>\n",
        "</table>\n",
        "</div>"
       ],
       "metadata": {},
       "output_type": "pyout",
       "prompt_number": 58,
       "text": [
        "           Country                                      Variable  \\\n",
        "0   United Kingdom        Population aged 80 or over (thousands)   \n",
        "1   United Kingdom                Percentage aged 80 or over (%)   \n",
        "2       Bangladesh        Population aged 80 or over (thousands)   \n",
        "3       Bangladesh                Percentage aged 80 or over (%)   \n",
        "4            India        Population aged 80 or over (thousands)   \n",
        "5            India                Percentage aged 80 or over (%)   \n",
        "6           France        Population aged 80 or over (thousands)   \n",
        "7           France                Percentage aged 80 or over (%)   \n",
        "8          Germany        Population aged 80 or over (thousands)   \n",
        "9          Germany                Percentage aged 80 or over (%)   \n",
        "10  United Kingdom  Population sex ratio (males per 100 females)   \n",
        "11      Bangladesh  Population sex ratio (males per 100 females)   \n",
        "12           India  Population sex ratio (males per 100 females)   \n",
        "13          France  Population sex ratio (males per 100 females)   \n",
        "14         Germany  Population sex ratio (males per 100 females)   \n",
        "\n",
        "           Variant  Year   Value  \n",
        "0   Medium variant  2000  2361.0  \n",
        "1   Medium variant  2000     4.0  \n",
        "2   Medium variant  2000   788.0  \n",
        "3   Medium variant  2000     0.6  \n",
        "4   Medium variant  2000  5686.0  \n",
        "5   Medium variant  2000     0.5  \n",
        "6   Medium variant  2000  2190.0  \n",
        "7   Medium variant  2000     3.7  \n",
        "8   Medium variant  2000  2882.0  \n",
        "9   Medium variant  2000     3.5  \n",
        "10  Medium variant  2000    95.0  \n",
        "11  Medium variant  2000   106.6  \n",
        "12  Medium variant  2000   107.6  \n",
        "13  Medium variant  2000    93.9  \n",
        "14  Medium variant  2000    95.2  "
       ]
      }
     ],
     "prompt_number": 58
    },
    {
     "cell_type": "code",
     "collapsed": false,
     "input": [
      "#Processors for pyramid chart\n",
      "def processWorldPopData(dfi,fname,countries=[],start=1950,end=2010):\n",
      "    df=getUNPopDivData(dfi,countries,\n",
      "                       ['Population by five-year age group and sex'],\n",
      "                       startyear=start,\n",
      "                       endyear=end)\n",
      "    dfp=df[['Year','Age','Sex','Value']]\n",
      "    dfp=dfp[dfp['Sex']!='Total']\n",
      "    dfp['Age']=dfp['Age'].apply(lambda x: x.replace('+','-').split('-')[0])\n",
      "    dfp['Sex']=dfp['Sex'].map( {'Male':1,'Female':2} )\n",
      "    dfp.columns=['year','age','sex','people']\n",
      "    dfp.to_csv(fname,index=False)\n",
      "\n",
      "processWorldPopData(dfi,'delme',['Bahrain'])"
     ],
     "language": "python",
     "metadata": {},
     "outputs": [],
     "prompt_number": 59
    },
    {
     "cell_type": "code",
     "collapsed": false,
     "input": [
      "!head delme"
     ],
     "language": "python",
     "metadata": {},
     "outputs": [
      {
       "output_type": "stream",
       "stream": "stdout",
       "text": [
        "year,age,sex,people\r\n",
        "1950, 0,1,10\r\n",
        "1950, 0,2,10\r\n",
        "1950, 5,1,8\r\n",
        "1950, 5,2,8\r\n",
        "1950, 10,1,7\r\n",
        "1950, 10,2,6\r\n",
        "1950, 15,1,6\r\n",
        "1950, 15,2,5\r\n",
        "1950, 20,1,6\r\n"
       ]
      }
     ],
     "prompt_number": 60
    },
    {
     "cell_type": "heading",
     "level": 2,
     "metadata": {},
     "source": [
      "Summary"
     ]
    },
    {
     "cell_type": "markdown",
     "metadata": {},
     "source": [
      "This notebook has described a set of routines for requesting and downloading data from the UN Department of Social and Economic Affairs Population Division on-line database and returning it as a *pandas* dataframe.\n",
      "\n",
      "A similar approach can be followed for the retrieval of data files published on other sites."
     ]
    }
   ],
   "metadata": {}
  }
 ]
}